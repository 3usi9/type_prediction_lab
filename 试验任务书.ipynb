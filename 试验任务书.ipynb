{
 "cells": [
  {
   "cell_type": "markdown",
   "id": "d4a67b31",
   "metadata": {
    "tags": []
   },
   "source": [
    "# 实验说明"
   ]
  },
  {
   "cell_type": "markdown",
   "id": "9eb974cf-50fc-426d-bb98-a14fca681695",
   "metadata": {
    "tags": []
   },
   "source": [
    "本实验基于`naturalcc`工具集，它是业界首个专注代码智能的深度模型开源训练工具集，包含了对业界现有的代码模型和下游任务的性能评价。相关论文发表在软件工程顶级会议ICSE上，参考文献 [NaturalCC: An Open-Source Toolkit for Code Intelligence](https://xcodemind.github.io/papers/icse22_naturalcc_camera_submitted.pdf)，实验要求使用`naturalcc`工具集复现类型推导任务中的经典方法`Typilus`，此方法发表在2020年的程序语言顶级会议PLDI上，相关文献为[Typilus: neural type hints](https://arxiv.org/pdf/2004.10657.pdf)。"
   ]
  },
  {
   "cell_type": "markdown",
   "id": "6affe41c-3c07-48c9-a5fd-5b06703a759d",
   "metadata": {},
   "source": [
    "实验分为五个部分，环境准备、数据获取、模型和超参数配置、模型训练与评价、拓展研究。"
   ]
  },
  {
   "cell_type": "markdown",
   "id": "0f29ae74-04c9-48c8-bcb7-b198a2fedfd2",
   "metadata": {},
   "source": [
    "完整复现Typilus需要计算节点的内存大于或等于`128GB`，显存大于或等于 `32GB`，如无计算节点，建议裁剪数据集，以及使用 [Google Colab](http://colab.research.google.com) (可以提供12GB的内存和一张16GB显存的 Tesla T4显卡）"
   ]
  },
  {
   "cell_type": "markdown",
   "id": "25dfc1bf-9deb-4199-816f-0e8985edd945",
   "metadata": {},
   "source": [
    "为避免包冲突，建议使用[Anaconda](http://anaconda.org)管理Python环境。"
   ]
  },
  {
   "cell_type": "markdown",
   "id": "bb3fd800-da2e-44e4-a2ab-07ba30a975b1",
   "metadata": {
    "tags": []
   },
   "source": [
    "# 环境准备"
   ]
  },
  {
   "cell_type": "markdown",
   "id": "35468579-5ed3-4701-bf50-26596407d030",
   "metadata": {
    "tags": []
   },
   "source": [
    "## NaturalCC 环境"
   ]
  },
  {
   "cell_type": "markdown",
   "id": "9b5c5586-80e9-4e42-a5fa-28d7ec263be4",
   "metadata": {
    "tags": []
   },
   "source": [
    "首先在GitHub上下载`naturalcc`工具集，执行下面的命令"
   ]
  },
  {
   "cell_type": "code",
   "execution_count": null,
   "id": "8e7130ba",
   "metadata": {
    "tags": []
   },
   "outputs": [],
   "source": [
    "!git clone https://github.com/CGCL-codes/naturalcc.git"
   ]
  },
  {
   "cell_type": "markdown",
   "id": "dfc7bc33",
   "metadata": {
    "tags": []
   },
   "source": [
    "之后在本地安装naturalcc环境，需要提前安装pytorch，此命令只需要执行一次。\n",
    "推荐使用 Anaconda 虚拟环境容器，避免影响本地Python环境。Anaconda可以在[这里](https://www.anaconda.com/)获取。"
   ]
  },
  {
   "cell_type": "code",
   "execution_count": null,
   "id": "e58b2f4c",
   "metadata": {},
   "outputs": [],
   "source": [
    "%conda install pytorch torchvision torchaudio cpuonly -c pytorch"
   ]
  },
  {
   "cell_type": "code",
   "execution_count": null,
   "id": "1498116e",
   "metadata": {},
   "outputs": [],
   "source": [
    "%conda install -c dglteam dgl"
   ]
  },
  {
   "cell_type": "markdown",
   "id": "88ea386e-1537-4f06-b848-ec7e675da8d6",
   "metadata": {},
   "source": [
    "Python要求最低版本3.8，安装完成后，执行下面的命令"
   ]
  },
  {
   "cell_type": "code",
   "execution_count": null,
   "id": "87d98f10",
   "metadata": {
    "tags": []
   },
   "outputs": [],
   "source": [
    "%cd naturalcc\n",
    "%pip install -r requirements.txt\n",
    "%pip install --editable .\n",
    "%cd .."
   ]
  },
  {
   "cell_type": "markdown",
   "id": "da96ef62-d89d-4aa2-8af5-e8320f4ac014",
   "metadata": {
    "tags": []
   },
   "source": [
    "### [GPU训练] 需要注意的地方"
   ]
  },
  {
   "cell_type": "markdown",
   "id": "95f69d47",
   "metadata": {},
   "source": [
    "训练过程依赖[pytorch库](https://pytorch.org)和[dgl库](https://www.dgl.ai)，如果使用GPU+CUDA训练，需要确保所安装的库版本与本机的CUDA版本对应，例如CUDA 11.0+需要安装```torch+cu110, dgl-cu110```，如果仅使用CPU训练，则只需要安装CPU版本的`torch`和`dgl`即可"
   ]
  },
  {
   "cell_type": "markdown",
   "id": "83f8a1ee-c596-4cd8-bc58-3206d5db3df6",
   "metadata": {},
   "source": [
    "在使用GPU训练前需要通过`gpustat`或`nvidia-smi`检查GPU是否已经正确安装，如下所示"
   ]
  },
  {
   "cell_type": "code",
   "execution_count": null,
   "id": "b1aa6bdf-f45c-45f6-820e-7c2f4cf2749e",
   "metadata": {},
   "outputs": [],
   "source": [
    "!gpustat"
   ]
  },
  {
   "cell_type": "markdown",
   "id": "fc1d04f8-8ac4-49aa-8b3a-9e66c5fbbf5e",
   "metadata": {},
   "source": [
    "## Typilus环境"
   ]
  },
  {
   "cell_type": "markdown",
   "id": "2ddba779-089c-45b2-88b8-1d4f0b1c4249",
   "metadata": {},
   "source": [
    "构建Typilus数据集需要使用`docker`，在电脑上安装`docker`后，获取`typilus`的源代码"
   ]
  },
  {
   "cell_type": "code",
   "execution_count": null,
   "id": "10a140db-9e7f-4496-870f-6e8144984892",
   "metadata": {},
   "outputs": [],
   "source": [
    "!git clone https://github.com/typilus/typilus.git"
   ]
  },
  {
   "cell_type": "markdown",
   "id": "5ca3d190-79d8-4919-907a-ca6410e88fde",
   "metadata": {},
   "source": [
    "之后在 `typilus/src/data_preparation`目录构建docker镜像"
   ]
  },
  {
   "cell_type": "code",
   "execution_count": null,
   "id": "b6c2dcc3-f59c-43d3-83b2-9d77f17af1af",
   "metadata": {
    "tags": []
   },
   "outputs": [],
   "source": [
    "%cd typilus/src/data_preparation/\n",
    "# 先需要下载docker\n",
    "!docker build -t typilus-env ."
   ]
  },
  {
   "cell_type": "markdown",
   "id": "7604ad50-f4e6-46be-8bae-132df8c499e9",
   "metadata": {
    "tags": []
   },
   "source": [
    "# 数据获取"
   ]
  },
  {
   "cell_type": "markdown",
   "id": "60bfba80-f997-4aa2-92cd-6000fbc9df1d",
   "metadata": {
    "tags": []
   },
   "source": [
    "## Typilus Graph 构建"
   ]
  },
  {
   "cell_type": "markdown",
   "id": "72747e2f-a6be-4e37-bc12-2d47cf2dcd40",
   "metadata": {},
   "source": [
    "在开始训练之前，我们首先需要获得训练所需的数据，我们将首先使用`Typilus`内置的数据处理程序将Python数据转换为Typilus Graph，然后把graph导入`naturalcc`进行训练和预测"
   ]
  },
  {
   "cell_type": "markdown",
   "id": "fe2cec65-6009-4cbe-9bc5-cf4f50400868",
   "metadata": {
    "jp-MarkdownHeadingCollapsed": true,
    "tags": []
   },
   "source": [
    "运行刚才构建的docker镜像，并设置Typilus训练数据保存的位置"
   ]
  },
  {
   "cell_type": "code",
   "execution_count": null,
   "id": "be2ffcae-3477-4317-bf67-5958a8af2c69",
   "metadata": {},
   "outputs": [],
   "source": [
    "# windows下要加 \"\"\n",
    "!docker run --rm -it -v \"$(pwd)/data:/usr/data\" typilus-env:latest bash"
   ]
  },
  {
   "cell_type": "markdown",
   "id": "a866e88d-c8e1-4c85-a82a-13ededfd7f4c",
   "metadata": {
    "tags": []
   },
   "source": [
    "在Docker shell中，输入下面的命令来构建数据集"
   ]
  },
  {
   "cell_type": "markdown",
   "id": "05f46235-50ce-41a7-bd59-9dfbd706f4a5",
   "metadata": {},
   "source": [
    "``bash scripts/prepare_data.sh metadata/typedRepos.txt, 这一步在windows上会出现问题``"
   ]
  },
  {
   "cell_type": "markdown",
   "id": "0d9d578b-6df3-4875-8aca-e9a2f4316c83",
   "metadata": {},
   "source": [
    "*注意：这条命令可能会执行若干天，关于命令执行时间过长和死循环的问题，可以参考[这里](https://github.com/typilus/typilus/issues/1)*"
   ]
  },
  {
   "cell_type": "markdown",
   "id": "b0d50136-5b09-4aa5-a11c-952df046d8dd",
   "metadata": {},
   "source": [
    "获取的数据保存在 `xxx/yyy/zzz/graph-dataset-split` 中，使用Tree命令观察"
   ]
  },
  {
   "cell_type": "code",
   "execution_count": null,
   "id": "479be175-f41e-4b09-8c36-403cd3d9a01b",
   "metadata": {
    "jupyter": {
     "outputs_hidden": true
    },
    "tags": []
   },
   "outputs": [],
   "source": [
    "!tree /mnt/gold/bizq/Typilus_data/graph-dataset-split"
   ]
  },
  {
   "cell_type": "markdown",
   "id": "8fdb76de-5628-41d0-b63e-1cc332c38e07",
   "metadata": {},
   "source": [
    "## NaturalCC 数据处理"
   ]
  },
  {
   "cell_type": "markdown",
   "id": "40801fd0-2ea3-4fe3-86ec-4612b72c315f",
   "metadata": {},
   "source": [
    "接下来把生成的Typilus Graph导入NaturalCC"
   ]
  },
  {
   "cell_type": "markdown",
   "id": "4fbe5cc5-a18a-4ee5-ab80-2a27a23e2306",
   "metadata": {
    "tags": []
   },
   "source": [
    "数据的处理过程包含了两个阶段，首先将原始数据整理为naturalcc统一的格式，接下来对数据进行binarize，以适合模型训练。"
   ]
  },
  {
   "cell_type": "code",
   "execution_count": null,
   "id": "dffdc73c-0180-4519-a030-01e7a2538657",
   "metadata": {
    "jupyter": {
     "outputs_hidden": true
    },
    "tags": []
   },
   "outputs": [],
   "source": [
    "import ncc_dataset\n",
    "ncc_dataset.prepare_dataset('typilus', typilus_path=\"/mnt/gold/bizq/Typilus_data\")"
   ]
  },
  {
   "cell_type": "code",
   "execution_count": null,
   "id": "6b4482d2-0896-4040-9cb5-026366d6c027",
   "metadata": {
    "jupyter": {
     "outputs_hidden": true
    },
    "tags": []
   },
   "outputs": [],
   "source": [
    "ncc_dataset.binarize_dataset('typilus')"
   ]
  },
  {
   "cell_type": "markdown",
   "id": "5797c594-dbf1-48d3-bda4-b9fb1559d907",
   "metadata": {},
   "source": [
    "# 模型训练"
   ]
  },
  {
   "cell_type": "markdown",
   "id": "e6c001bc-3cd8-4fdb-870c-aa0c526d1598",
   "metadata": {},
   "source": [
    "我们已经提供了训练代码，模型训练的过程只需要执行代码即可。"
   ]
  },
  {
   "cell_type": "code",
   "execution_count": null,
   "id": "8ac1a5fd-b95e-431b-b4a2-ea67b4da87c8",
   "metadata": {
    "jupyter": {
     "outputs_hidden": true
    },
    "tags": []
   },
   "outputs": [],
   "source": [
    "!python naturalcc/run/type_prediction/typilus/train.py"
   ]
  },
  {
   "cell_type": "code",
   "execution_count": null,
   "id": "90f4c02e-a0d1-4e28-ac1a-2e55380d25a9",
   "metadata": {},
   "outputs": [],
   "source": [
    "!gpustat"
   ]
  },
  {
   "cell_type": "markdown",
   "id": "c8a8edde-dd77-4bad-be0d-de04088e881c",
   "metadata": {},
   "source": [
    "# 模型评价"
   ]
  },
  {
   "cell_type": "markdown",
   "id": "1eddf0e3-58d2-4477-9f28-d9691b493b29",
   "metadata": {},
   "source": [
    "**挑战1**. 我们在训练代码中插入了模型的评价代码，试着用它们评价模型的准确率！"
   ]
  },
  {
   "cell_type": "markdown",
   "id": "98c664d7-2062-4b63-aa14-b1e1574d3eeb",
   "metadata": {},
   "source": [
    "# 拓展研究"
   ]
  },
  {
   "cell_type": "markdown",
   "id": "217f89e6-2871-4de4-b8cd-d30780247980",
   "metadata": {},
   "source": [
    "**挑战2**. 调整Typilus模型的超参数（在`config/typilus.yml`中），试着提高模型的训练准确率。"
   ]
  },
  {
   "cell_type": "markdown",
   "id": "530e8702-5341-4262-b058-8c9f20490a93",
   "metadata": {},
   "source": [
    "**挑战3**. 利用`naturalcc`中的其他代码，比较在同样的数据集上，`lstm`,`transformer`,`typilus` 的模型预测能力。"
   ]
  },
  {
   "cell_type": "markdown",
   "id": "fd819420-4642-43bf-a79d-6541b3b5900f",
   "metadata": {},
   "source": [
    "**挑战4**. 修改naturalcc的代码，支持[LAMBDANET](https://arxiv.org/pdf/2005.02161.pdf), [Type4Py](https://arxiv.org/pdf/2101.04470.pdf), [Plato](https://arxiv.org/pdf/2107.00157.pdf) 等模型。"
   ]
  },
  {
   "cell_type": "code",
   "execution_count": null,
   "id": "945fe364-1911-4a4a-8496-ec8567adf444",
   "metadata": {},
   "outputs": [],
   "source": []
  }
 ],
 "metadata": {
  "kernelspec": {
   "display_name": "Python 3.8.13 ('typilus')",
   "language": "python",
   "name": "python3"
  },
  "language_info": {
   "codemirror_mode": {
    "name": "ipython",
    "version": 3
   },
   "file_extension": ".py",
   "mimetype": "text/x-python",
   "name": "python",
   "nbconvert_exporter": "python",
   "pygments_lexer": "ipython3",
   "version": "3.8.13"
  },
  "vscode": {
   "interpreter": {
    "hash": "0052dc2d9a001ea098bce353c541346da5473321a5f058a114f7fbe16460a9dc"
   }
  }
 },
 "nbformat": 4,
 "nbformat_minor": 5
}
